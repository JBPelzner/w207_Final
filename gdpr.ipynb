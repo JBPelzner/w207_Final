{
 "cells": [
  {
   "cell_type": "markdown",
   "metadata": {},
   "source": [
    "# How many permission requests and what kind of permission will a company ask for?\n",
    "\n",
    " possible important variables:  country and google rank"
   ]
  },
  {
   "cell_type": "code",
   "execution_count": 2,
   "metadata": {},
   "outputs": [],
   "source": [
    "import pandas as pd\n",
    "import numpy as np\n",
    "%matplotlib inline\n",
    "\n",
    "import urllib.request as urllib2 # For python3\n",
    "import numpy as np\n",
    "import matplotlib.pyplot as plt\n",
    "from sklearn import metrics\n",
    "from sklearn.decomposition import PCA\n",
    "from sklearn.cluster import KMeans\n",
    "from sklearn.mixture import GaussianMixture\n",
    "from matplotlib.colors import LogNorm"
   ]
  },
  {
   "cell_type": "code",
   "execution_count": 3,
   "metadata": {},
   "outputs": [],
   "source": [
    "gdpr = pd.read_csv(\"GDPRDataAge5.csv\")"
   ]
  },
  {
   "cell_type": "raw",
   "metadata": {},
   "source": []
  },
  {
   "cell_type": "code",
   "execution_count": 4,
   "metadata": {},
   "outputs": [
    {
     "data": {
      "text/html": [
       "<div>\n",
       "<style scoped>\n",
       "    .dataframe tbody tr th:only-of-type {\n",
       "        vertical-align: middle;\n",
       "    }\n",
       "\n",
       "    .dataframe tbody tr th {\n",
       "        vertical-align: top;\n",
       "    }\n",
       "\n",
       "    .dataframe thead th {\n",
       "        text-align: right;\n",
       "    }\n",
       "</style>\n",
       "<table border=\"1\" class=\"dataframe\">\n",
       "  <thead>\n",
       "    <tr style=\"text-align: right;\">\n",
       "      <th></th>\n",
       "      <th>package_name</th>\n",
       "      <th>country</th>\n",
       "      <th>category</th>\n",
       "      <th>google_rank</th>\n",
       "      <th>pregdpr.permissions</th>\n",
       "      <th>permission_count</th>\n",
       "      <th>Unnamed: 6</th>\n",
       "      <th>package_name.1</th>\n",
       "      <th>country.1</th>\n",
       "      <th>category.1</th>\n",
       "      <th>google_rank.1</th>\n",
       "      <th>postgdpr.permissions</th>\n",
       "      <th>permission_count.1</th>\n",
       "    </tr>\n",
       "  </thead>\n",
       "  <tbody>\n",
       "    <tr>\n",
       "      <th>0</th>\n",
       "      <td>bluphant.games.gravity</td>\n",
       "      <td>United States</td>\n",
       "      <td>Ages 5 &amp; Under</td>\n",
       "      <td>358</td>\n",
       "      <td>[]</td>\n",
       "      <td>0</td>\n",
       "      <td>NaN</td>\n",
       "      <td>com.amazon.tahoe</td>\n",
       "      <td>Germany</td>\n",
       "      <td>Ages 5 &amp; Under</td>\n",
       "      <td>176</td>\n",
       "      <td>['android.permission.READ_PHONE_STATE', 'andro...</td>\n",
       "      <td>67</td>\n",
       "    </tr>\n",
       "    <tr>\n",
       "      <th>1</th>\n",
       "      <td>air.com.pepiplay.pepibathliteandroid</td>\n",
       "      <td>United States</td>\n",
       "      <td>Ages 5 &amp; Under</td>\n",
       "      <td>383</td>\n",
       "      <td>['android.permission.INTERNET']</td>\n",
       "      <td>1</td>\n",
       "      <td>NaN</td>\n",
       "      <td>com.amazon.tahoe</td>\n",
       "      <td>United States</td>\n",
       "      <td>Ages 5 &amp; Under</td>\n",
       "      <td>49</td>\n",
       "      <td>['android.permission.READ_PHONE_STATE', 'andro...</td>\n",
       "      <td>66</td>\n",
       "    </tr>\n",
       "    <tr>\n",
       "      <th>2</th>\n",
       "      <td>com.intellijoy.sightwords.lite</td>\n",
       "      <td>United States</td>\n",
       "      <td>Ages 5 &amp; Under</td>\n",
       "      <td>466</td>\n",
       "      <td>['android.permission.INTERNET']</td>\n",
       "      <td>1</td>\n",
       "      <td>NaN</td>\n",
       "      <td>bluepin_app.cont.glbburi</td>\n",
       "      <td>South Korea</td>\n",
       "      <td>Ages 5 &amp; Under</td>\n",
       "      <td>357</td>\n",
       "      <td>['android.permission.CAMERA', 'android.permiss...</td>\n",
       "      <td>33</td>\n",
       "    </tr>\n",
       "    <tr>\n",
       "      <th>3</th>\n",
       "      <td>com.kevinbradford.games.barnyardgamesfree</td>\n",
       "      <td>United States</td>\n",
       "      <td>Ages 5 &amp; Under</td>\n",
       "      <td>195</td>\n",
       "      <td>['com.android.vending.BILLING']</td>\n",
       "      <td>1</td>\n",
       "      <td>NaN</td>\n",
       "      <td>bluepin_app.cont.his_show_kor</td>\n",
       "      <td>South Korea</td>\n",
       "      <td>Ages 5 &amp; Under</td>\n",
       "      <td>302</td>\n",
       "      <td>['android.permission.INTERNET', 'android.permi...</td>\n",
       "      <td>33</td>\n",
       "    </tr>\n",
       "    <tr>\n",
       "      <th>4</th>\n",
       "      <td>com.kevinbradford.games.firstgrade</td>\n",
       "      <td>United States</td>\n",
       "      <td>Ages 5 &amp; Under</td>\n",
       "      <td>170</td>\n",
       "      <td>['com.android.vending.BILLING']</td>\n",
       "      <td>1</td>\n",
       "      <td>NaN</td>\n",
       "      <td>bluepin_app.cont.ikooo_kor</td>\n",
       "      <td>South Korea</td>\n",
       "      <td>Ages 5 &amp; Under</td>\n",
       "      <td>86</td>\n",
       "      <td>['android.permission.INTERNET', 'android.permi...</td>\n",
       "      <td>33</td>\n",
       "    </tr>\n",
       "  </tbody>\n",
       "</table>\n",
       "</div>"
      ],
      "text/plain": [
       "                                package_name        country        category  \\\n",
       "0                     bluphant.games.gravity  United States  Ages 5 & Under   \n",
       "1       air.com.pepiplay.pepibathliteandroid  United States  Ages 5 & Under   \n",
       "2             com.intellijoy.sightwords.lite  United States  Ages 5 & Under   \n",
       "3  com.kevinbradford.games.barnyardgamesfree  United States  Ages 5 & Under   \n",
       "4         com.kevinbradford.games.firstgrade  United States  Ages 5 & Under   \n",
       "\n",
       "   google_rank              pregdpr.permissions  permission_count  Unnamed: 6  \\\n",
       "0          358                               []                 0         NaN   \n",
       "1          383  ['android.permission.INTERNET']                 1         NaN   \n",
       "2          466  ['android.permission.INTERNET']                 1         NaN   \n",
       "3          195  ['com.android.vending.BILLING']                 1         NaN   \n",
       "4          170  ['com.android.vending.BILLING']                 1         NaN   \n",
       "\n",
       "                  package_name.1      country.1      category.1  \\\n",
       "0               com.amazon.tahoe        Germany  Ages 5 & Under   \n",
       "1               com.amazon.tahoe  United States  Ages 5 & Under   \n",
       "2       bluepin_app.cont.glbburi    South Korea  Ages 5 & Under   \n",
       "3  bluepin_app.cont.his_show_kor    South Korea  Ages 5 & Under   \n",
       "4     bluepin_app.cont.ikooo_kor    South Korea  Ages 5 & Under   \n",
       "\n",
       "   google_rank.1                               postgdpr.permissions  \\\n",
       "0            176  ['android.permission.READ_PHONE_STATE', 'andro...   \n",
       "1             49  ['android.permission.READ_PHONE_STATE', 'andro...   \n",
       "2            357  ['android.permission.CAMERA', 'android.permiss...   \n",
       "3            302  ['android.permission.INTERNET', 'android.permi...   \n",
       "4             86  ['android.permission.INTERNET', 'android.permi...   \n",
       "\n",
       "   permission_count.1  \n",
       "0                  67  \n",
       "1                  66  \n",
       "2                  33  \n",
       "3                  33  \n",
       "4                  33  "
      ]
     },
     "execution_count": 4,
     "metadata": {},
     "output_type": "execute_result"
    }
   ],
   "source": [
    "gdpr.head()"
   ]
  },
  {
   "cell_type": "code",
   "execution_count": 5,
   "metadata": {},
   "outputs": [],
   "source": [
    "gdpr.drop(['Unnamed: 6'], axis = 1, inplace = True)\n"
   ]
  },
  {
   "cell_type": "code",
   "execution_count": 6,
   "metadata": {
    "scrolled": true
   },
   "outputs": [
    {
     "data": {
      "text/plain": [
       "package_name            0\n",
       "country                 0\n",
       "category                0\n",
       "google_rank             0\n",
       "pregdpr.permissions     0\n",
       "permission_count        0\n",
       "package_name.1          0\n",
       "country.1               0\n",
       "category.1              0\n",
       "google_rank.1           0\n",
       "postgdpr.permissions    0\n",
       "permission_count.1      0\n",
       "dtype: int64"
      ]
     },
     "execution_count": 6,
     "metadata": {},
     "output_type": "execute_result"
    }
   ],
   "source": [
    "#checking for null values\n",
    "gdpr.isnull().sum()"
   ]
  },
  {
   "cell_type": "code",
   "execution_count": 7,
   "metadata": {},
   "outputs": [
    {
     "data": {
      "text/plain": [
       "Index(['package_name', 'country', 'category', 'google_rank',\n",
       "       'pregdpr.permissions', 'permission_count', 'package_name.1',\n",
       "       'country.1', 'category.1', 'google_rank.1', 'postgdpr.permissions',\n",
       "       'permission_count.1'],\n",
       "      dtype='object')"
      ]
     },
     "execution_count": 7,
     "metadata": {},
     "output_type": "execute_result"
    }
   ],
   "source": [
    "gdpr.columns"
   ]
  },
  {
   "cell_type": "code",
   "execution_count": 8,
   "metadata": {},
   "outputs": [],
   "source": [
    "gdpr_pre = gdpr[[\"package_name\", 'country', 'category', 'google_rank',\n",
    "       'pregdpr.permissions', 'permission_count']]\n",
    "\n",
    "gdpr_post = gdpr[['package_name.1',\n",
    "       'country.1', 'category.1', 'google_rank.1', 'postgdpr.permissions',\n",
    "       'permission_count.1']]"
   ]
  },
  {
   "cell_type": "code",
   "execution_count": 9,
   "metadata": {},
   "outputs": [
    {
     "data": {
      "text/plain": [
       "(902, 6)"
      ]
     },
     "execution_count": 9,
     "metadata": {},
     "output_type": "execute_result"
    }
   ],
   "source": [
    "gdpr_pre.shape"
   ]
  },
  {
   "cell_type": "code",
   "execution_count": 10,
   "metadata": {},
   "outputs": [
    {
     "data": {
      "text/plain": [
       "(902, 6)"
      ]
     },
     "execution_count": 10,
     "metadata": {},
     "output_type": "execute_result"
    }
   ],
   "source": [
    "gdpr_post.shape"
   ]
  },
  {
   "cell_type": "code",
   "execution_count": 11,
   "metadata": {},
   "outputs": [
    {
     "data": {
      "text/html": [
       "<div>\n",
       "<style scoped>\n",
       "    .dataframe tbody tr th:only-of-type {\n",
       "        vertical-align: middle;\n",
       "    }\n",
       "\n",
       "    .dataframe tbody tr th {\n",
       "        vertical-align: top;\n",
       "    }\n",
       "\n",
       "    .dataframe thead th {\n",
       "        text-align: right;\n",
       "    }\n",
       "</style>\n",
       "<table border=\"1\" class=\"dataframe\">\n",
       "  <thead>\n",
       "    <tr style=\"text-align: right;\">\n",
       "      <th></th>\n",
       "      <th>package_name.1</th>\n",
       "      <th>country.1</th>\n",
       "      <th>category.1</th>\n",
       "      <th>google_rank.1</th>\n",
       "      <th>postgdpr.permissions</th>\n",
       "      <th>permission_count.1</th>\n",
       "    </tr>\n",
       "  </thead>\n",
       "  <tbody>\n",
       "    <tr>\n",
       "      <th>873</th>\n",
       "      <td>air.com.pepiplay.pepibathliteandroid</td>\n",
       "      <td>United States</td>\n",
       "      <td>Ages 5 &amp; Under</td>\n",
       "      <td>504</td>\n",
       "      <td>['android.permission.INTERNET']</td>\n",
       "      <td>1</td>\n",
       "    </tr>\n",
       "  </tbody>\n",
       "</table>\n",
       "</div>"
      ],
      "text/plain": [
       "                           package_name.1      country.1      category.1  \\\n",
       "873  air.com.pepiplay.pepibathliteandroid  United States  Ages 5 & Under   \n",
       "\n",
       "     google_rank.1             postgdpr.permissions  permission_count.1  \n",
       "873            504  ['android.permission.INTERNET']                   1  "
      ]
     },
     "execution_count": 11,
     "metadata": {},
     "output_type": "execute_result"
    }
   ],
   "source": [
    "gdpr_post[gdpr_post['package_name.1'] == \"air.com.pepiplay.pepibathliteandroid\"]"
   ]
  },
  {
   "cell_type": "code",
   "execution_count": 12,
   "metadata": {},
   "outputs": [],
   "source": [
    "gdpr_post = gdpr_post.rename(columns={\"package_name.1\": \"package_name\", \"country.1\": 'country'})\n",
    "\n",
    "gdpr_merge = gdpr_pre.merge(gdpr_post, on = ['package_name','country'], how = 'inner')\n",
    "\n"
   ]
  },
  {
   "cell_type": "code",
   "execution_count": 15,
   "metadata": {},
   "outputs": [
    {
     "data": {
      "text/plain": [
       "(902, 10)"
      ]
     },
     "execution_count": 15,
     "metadata": {},
     "output_type": "execute_result"
    }
   ],
   "source": [
    "gdpr_merge.shape"
   ]
  },
  {
   "cell_type": "code",
   "execution_count": null,
   "metadata": {},
   "outputs": [],
   "source": []
  },
  {
   "cell_type": "code",
   "execution_count": null,
   "metadata": {},
   "outputs": [],
   "source": []
  },
  {
   "cell_type": "code",
   "execution_count": null,
   "metadata": {},
   "outputs": [],
   "source": []
  },
  {
   "cell_type": "code",
   "execution_count": 14,
   "metadata": {},
   "outputs": [
    {
     "data": {
      "text/html": [
       "<div>\n",
       "<style scoped>\n",
       "    .dataframe tbody tr th:only-of-type {\n",
       "        vertical-align: middle;\n",
       "    }\n",
       "\n",
       "    .dataframe tbody tr th {\n",
       "        vertical-align: top;\n",
       "    }\n",
       "\n",
       "    .dataframe thead th {\n",
       "        text-align: right;\n",
       "    }\n",
       "</style>\n",
       "<table border=\"1\" class=\"dataframe\">\n",
       "  <thead>\n",
       "    <tr style=\"text-align: right;\">\n",
       "      <th></th>\n",
       "      <th>google_rank</th>\n",
       "      <th>permission_count</th>\n",
       "      <th>google_rank.1</th>\n",
       "      <th>permission_count.1</th>\n",
       "    </tr>\n",
       "  </thead>\n",
       "  <tbody>\n",
       "    <tr>\n",
       "      <th>google_rank</th>\n",
       "      <td>1.000000</td>\n",
       "      <td>-0.105466</td>\n",
       "      <td>0.642703</td>\n",
       "      <td>-0.063975</td>\n",
       "    </tr>\n",
       "    <tr>\n",
       "      <th>permission_count</th>\n",
       "      <td>-0.105466</td>\n",
       "      <td>1.000000</td>\n",
       "      <td>-0.129700</td>\n",
       "      <td>0.695174</td>\n",
       "    </tr>\n",
       "    <tr>\n",
       "      <th>google_rank.1</th>\n",
       "      <td>0.642703</td>\n",
       "      <td>-0.129700</td>\n",
       "      <td>1.000000</td>\n",
       "      <td>-0.054363</td>\n",
       "    </tr>\n",
       "    <tr>\n",
       "      <th>permission_count.1</th>\n",
       "      <td>-0.063975</td>\n",
       "      <td>0.695174</td>\n",
       "      <td>-0.054363</td>\n",
       "      <td>1.000000</td>\n",
       "    </tr>\n",
       "  </tbody>\n",
       "</table>\n",
       "</div>"
      ],
      "text/plain": [
       "                    google_rank  permission_count  google_rank.1  \\\n",
       "google_rank            1.000000         -0.105466       0.642703   \n",
       "permission_count      -0.105466          1.000000      -0.129700   \n",
       "google_rank.1          0.642703         -0.129700       1.000000   \n",
       "permission_count.1    -0.063975          0.695174      -0.054363   \n",
       "\n",
       "                    permission_count.1  \n",
       "google_rank                  -0.063975  \n",
       "permission_count              0.695174  \n",
       "google_rank.1                -0.054363  \n",
       "permission_count.1            1.000000  "
      ]
     },
     "execution_count": 14,
     "metadata": {},
     "output_type": "execute_result"
    }
   ],
   "source": [
    "gdpr_merge.corr()"
   ]
  },
  {
   "cell_type": "code",
   "execution_count": null,
   "metadata": {},
   "outputs": [],
   "source": []
  }
 ],
 "metadata": {
  "kernelspec": {
   "display_name": "Python 3",
   "language": "python",
   "name": "python3"
  },
  "language_info": {
   "codemirror_mode": {
    "name": "ipython",
    "version": 3
   },
   "file_extension": ".py",
   "mimetype": "text/x-python",
   "name": "python",
   "nbconvert_exporter": "python",
   "pygments_lexer": "ipython3",
   "version": "3.7.3"
  }
 },
 "nbformat": 4,
 "nbformat_minor": 2
}
